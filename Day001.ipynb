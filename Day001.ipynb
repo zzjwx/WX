{
 "cells": [
  {
   "cell_type": "code",
   "execution_count": 2,
   "metadata": {},
   "outputs": [],
   "source": [
    "def knn(k,testdata,traindata,labels):\n",
    "    traindatasize=traindata.shape[0]\n",
    "    dif=tile(testdata,(traindatasize,1))-traindata\n",
    "    sqdif=dif**2\n",
    "    sumsqdif=sqdif.sum(axis=1)\n",
    "    distance=sumsqdif**0.5\n",
    "    sortdistance=distance.argsort()\n",
    "    count={}\n",
    "    for i in range(0,k):\n",
    "        vote=labels[sortdistance[i]]\n",
    "        count[vote]=count.get(vote,0)+1\n",
    "    sortcount=sorted(count.items(),key=operator.itemgetter(1),reverse=True)\n",
    "    return sortcount[0][0]"
   ]
  },
  {
   "cell_type": "code",
   "execution_count": 1,
   "metadata": {},
   "outputs": [],
   "source": [
    "def datatoarray(fname):\n",
    "    arr=[]\n",
    "    fh=open(fname)\n",
    "    for i in range(0,32):\n",
    "        thisline=fh.readline()\n",
    "        for j in range(0,32):\n",
    "            arr.append(int(thisline[j]))\n",
    "    return arr"
   ]
  },
  {
   "cell_type": "code",
   "execution_count": 2,
   "metadata": {},
   "outputs": [],
   "source": [
    "def seplabel(fname):\n",
    "    filestr=fname.split(\".\")[0]\n",
    "    labels=int(filestr.split(\"_\")[0])\n",
    "    return labels"
   ]
  },
  {
   "cell_type": "code",
   "execution_count": 3,
   "metadata": {},
   "outputs": [],
   "source": [
    "def traindata():\n",
    "    labels=[]\n",
    "    trainfile=os.listdir(\"./traindata\")\n",
    "    num=len(trainfile)\n",
    "    #像素32*32=1024\n",
    "    #创建一个数组存放训练数据，行为文件总数，列为1024，为一个手写体的内容 zeros创建规定大小的数组\n",
    "    trainarr=zeros((num,1024))\n",
    "    for i in range(0,num):\n",
    "        thisfname=trainfile[i]\n",
    "        thislabel=seplabel(thisfname)\n",
    "        labels.append(thislabel)\n",
    "        trainarr[i]=datatoarray(\"./traindata/\"+thisfname)\n",
    "    return trainarr,labels"
   ]
  },
  {
   "cell_type": "code",
   "execution_count": 4,
   "metadata": {},
   "outputs": [],
   "source": [
    "def datatest():\n",
    "    trainarr,labels=traindata()\n",
    "    testlist=os.listdir(\"./testdata\")\n",
    "    tnum=len(testlist)\n",
    "    for i in range(tnum):\n",
    "        thisname=testlist[i]\n",
    "        testarr=datatoarray(\"./testdata/\"+thisname)\n",
    "        rknn=knn(k=3,testdata=testarr,traindata=trainarr,labels=labels)  \n",
    "        print(str(thisname)+\"  :  \"+str(rknn))"
   ]
  },
  {
   "cell_type": "code",
   "execution_count": null,
   "metadata": {},
   "outputs": [],
   "source": []
  }
 ],
 "metadata": {
  "kernelspec": {
   "display_name": "Python 3",
   "language": "python",
   "name": "python3"
  },
  "language_info": {
   "codemirror_mode": {
    "name": "ipython",
    "version": 3
   },
   "file_extension": ".py",
   "mimetype": "text/x-python",
   "name": "python",
   "nbconvert_exporter": "python",
   "pygments_lexer": "ipython3",
   "version": "3.7.3"
  }
 },
 "nbformat": 4,
 "nbformat_minor": 2
}
